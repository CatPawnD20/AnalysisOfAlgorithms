{
 "cells": [
  {
   "cell_type": "code",
   "execution_count": 102,
   "metadata": {},
   "outputs": [],
   "source": [
    "import random"
   ]
  },
  {
   "cell_type": "code",
   "execution_count": 103,
   "metadata": {},
   "outputs": [],
   "source": [
    "def get_n_random_numbers(n=10, min=-5, max=5):\n",
    "    numbers=[]\n",
    "    for i in range(n):\n",
    "        numbers.append(random.randint(min,max))\n",
    "    return numbers"
   ]
  },
  {
   "cell_type": "code",
   "execution_count": 245,
   "metadata": {},
   "outputs": [
    {
     "data": {
      "text/plain": [
       "[-3, 1, -1, -3, 4, 1, -1, 1, -4, -4, -5, -3, 5, -5, 2, 3, -5, 4, -3, -3]"
      ]
     },
     "execution_count": 245,
     "metadata": {},
     "output_type": "execute_result"
    }
   ],
   "source": [
    "my_list = get_n_random_numbers(20)\n",
    "my_list"
   ]
  },
  {
   "cell_type": "code",
   "execution_count": 246,
   "metadata": {},
   "outputs": [],
   "source": [
    "def getModeMedian2(list):\n",
    "    \n",
    "    # \n",
    "    my_histogram={}\n",
    "    n=len(list)\n",
    "    # Karmaşıklık: O(2)\n",
    "    \n",
    "    # Listenin her elemanı için yapılır.\n",
    "    for item in list:\n",
    "        if (item in my_histogram):\n",
    "            my_histogram[item]=my_histogram[item]+1\n",
    "        else:\n",
    "            my_histogram[item]=1\n",
    "    # Karmaşıklık: O(n)\n",
    "    \n",
    "    \n",
    "    # Histogram için her eleman kadar kontrol yapılır.\n",
    "    frequency_max=-1\n",
    "    mode=-1\n",
    "    for key in my_histogram.keys():\n",
    "        if my_histogram[key]>frequency_max:\n",
    "            frequency_max=my_histogram[key]\n",
    "            mode=key\n",
    "    # Karmaşıklık O(3n+2) = O(n)\n",
    "    \n",
    "    # İlk for döngüsü içinde sondan başa doğru listede dolanılırken\n",
    "    # ikincisi ile birlikte n(n+1)/2 şeklinde karmaşıklık yaratır.\n",
    "    for i in range(n-1,-1,-1):\n",
    "        for j in range(0,i):\n",
    "            if not(list[j]<list[j+1]):\n",
    "                temp=list[j]\n",
    "                list[j]=list[j+1]\n",
    "                list[j+1]=temp\n",
    "    #O( (7*n*(n+1)/2)) = O(n^2)\n",
    "    \n",
    "    #Worst case durumunda sabit bir karmaşıklık yaratır\n",
    "    #Toplam karmaşıklıkta dikkate alınmaz\n",
    "    if n%2==1:\n",
    "        middle=int(n//2)+1\n",
    "        median=list[middle-1]        \n",
    "    else:\n",
    "        middle_1=list[int(n//2)-1]\n",
    "        middle_2=list[int(n//2)]\n",
    "        median=(middle_1+middle_2)/2\n",
    "    #O(8)\n",
    "    \n",
    "    print(\"sorted:\", list)\n",
    "    \n",
    "    #Tüm fonksiyonun karmaşıklığı O(n^2)'dir'\n",
    "    \n",
    "    return mode, median"
   ]
  },
  {
   "cell_type": "code",
   "execution_count": 247,
   "metadata": {},
   "outputs": [
    {
     "name": "stdout",
     "output_type": "stream",
     "text": [
      "sorted: [-5, -5, -5, -4, -4, -3, -3, -3, -3, -3, -1, -1, 1, 1, 1, 2, 3, 4, 4, 5]\n"
     ]
    },
    {
     "data": {
      "text/plain": [
       "(-3, -2.0)"
      ]
     },
     "execution_count": 247,
     "metadata": {},
     "output_type": "execute_result"
    }
   ],
   "source": [
    "#Karmaşıklık O(n^2)\n",
    "\n",
    "getModeMedian2(my_list)"
   ]
  }
 ],
 "metadata": {
  "kernelspec": {
   "display_name": "Python 3",
   "language": "python",
   "name": "python3"
  },
  "language_info": {
   "codemirror_mode": {
    "name": "ipython",
    "version": 3
   },
   "file_extension": ".py",
   "mimetype": "text/x-python",
   "name": "python",
   "nbconvert_exporter": "python",
   "pygments_lexer": "ipython3",
   "version": "3.7.3"
  }
 },
 "nbformat": 4,
 "nbformat_minor": 2
}
