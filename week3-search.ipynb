{
 "cells": [
  {
   "cell_type": "code",
   "execution_count": 3,
   "metadata": {},
   "outputs": [
    {
     "data": {
      "text/plain": [
       "[-2, -1, 3, -5, -4, 2, -1, -4, 2, 4]"
      ]
     },
     "execution_count": 3,
     "metadata": {},
     "output_type": "execute_result"
    }
   ],
   "source": [
    "import random\n",
    "def get_n_random_numbers(n=10, min_=-5, max_=5):\n",
    "    numbers=[]\n",
    "    for i in range(n):\n",
    "        numbers.append(random.randint(min_, max_))\n",
    "    return numbers\n",
    "get_n_random_numbers()"
   ]
  },
  {
   "cell_type": "code",
   "execution_count": 99,
   "metadata": {},
   "outputs": [],
   "source": [
    "def my_linear_search(my_list, item_search):\n",
    "    found = (-1,-1)\n",
    "    n = len(my_list)\n",
    "    for indis in range(n):\n",
    "        if my_list[indis] == item_search:\n",
    "            found = (my_list[indis], indis)\n",
    "            #eğer ilk bulunan döndürülsün istenirse buradan break ile çıkılır.\n",
    "            break\n",
    "    return found"
   ]
  },
  {
   "cell_type": "code",
   "execution_count": 192,
   "metadata": {},
   "outputs": [],
   "source": [
    "def my_experimental_study_linear(iter_num=50):\n",
    "    cost = []\n",
    "    x_low = -100\n",
    "    x_high = 100\n",
    "    array_size = 40\n",
    "    print(\"Array size: \", array_size)\n",
    "    for iter in range(iter_num):\n",
    "        my_list = get_n_random_numbers(array_size,x_low,x_high)\n",
    "        my_search_item = get_n_random_numbers(1,x_low,x_high)\n",
    "        my_search_item = my_search_item[0]\n",
    "        result = my_linear_search(my_list, my_search_item)\n",
    "        if(result[1]==-1):\n",
    "            cost.append(array_size)\n",
    "        else:\n",
    "            cost.append(result[1]) \n",
    "            #bulunan indisleri cost'da tutuyoruz\n",
    "            #bu da bize aramak için kaç eleman tarandığı söyler\n",
    "            #eğer ki bulunamazsa array_size kadar maliyeti olur => O(n)\n",
    "        print(result)\n",
    "    return cost"
   ]
  },
  {
   "cell_type": "code",
   "execution_count": 206,
   "metadata": {
    "scrolled": true
   },
   "outputs": [
    {
     "name": "stdout",
     "output_type": "stream",
     "text": [
      "Array size:  40\n",
      "(-1, -1)\n",
      "(-1, -1)\n",
      "(-1, -1)\n",
      "(-1, -1)\n",
      "(-1, -1)\n",
      "(-1, -1)\n",
      "(-1, -1)\n",
      "(-1, -1)\n",
      "(-1, -1)\n",
      "(-1, -1)\n",
      "(-46, 36)\n",
      "(-1, -1)\n",
      "(-1, -1)\n",
      "(-1, -1)\n",
      "(-1, -1)\n",
      "(-1, -1)\n",
      "(-19, 21)\n",
      "(-1, -1)\n",
      "(-1, -1)\n",
      "(-1, -1)\n",
      "(-1, -1)\n",
      "(-1, -1)\n",
      "(-1, -1)\n",
      "(-1, -1)\n",
      "(-1, -1)\n",
      "(-1, -1)\n",
      "(-1, -1)\n",
      "(-1, -1)\n",
      "(-82, 23)\n",
      "(-1, -1)\n",
      "(84, 0)\n",
      "(25, 27)\n",
      "(-1, -1)\n",
      "(-1, -1)\n",
      "(-1, -1)\n",
      "(19, 23)\n",
      "(-1, -1)\n",
      "(-1, -1)\n",
      "(-1, -1)\n",
      "(-1, -1)\n",
      "(-1, -1)\n",
      "(-1, -1)\n",
      "(-1, -1)\n",
      "(-1, -1)\n",
      "(-1, -1)\n",
      "(-1, -1)\n",
      "(-1, -1)\n",
      "(-69, 33)\n",
      "(-1, -1)\n",
      "(74, 1)\n"
     ]
    }
   ],
   "source": [
    "c_s_l = my_experimental_study_linear()"
   ]
  },
  {
   "cell_type": "code",
   "execution_count": 207,
   "metadata": {},
   "outputs": [],
   "source": [
    "import matplotlib.pyplot as plt"
   ]
  },
  {
   "cell_type": "code",
   "execution_count": 208,
   "metadata": {},
   "outputs": [
    {
     "data": {
      "text/plain": [
       "[<matplotlib.lines.Line2D at 0x7ff9d91cb048>]"
      ]
     },
     "execution_count": 208,
     "metadata": {},
     "output_type": "execute_result"
    },
    {
     "data": {
      "image/png": "[encoded data removed]",
      "text/plain": [
       "<Figure size 432x288 with 1 Axes>"
      ]
     },
     "metadata": {
      "needs_background": "light"
     },
     "output_type": "display_data"
    }
   ],
   "source": [
    "#Grafiğe bakarak şunu anlarız, average cost'un array_size/2 olması beklenir yani 20  civarı(n/2 - 40/2 = 20).\n",
    "#Binary search'te ise logn karmaşıklık sonucu vermelidir yani 5 civarı(long2^n - log2^40 => 5'tir).\n",
    "plt.plot(c_s_l) \n",
    "#Ama unutmamak gerekir ki ilk başta oluşturulan liste kısıtlamalara sahiptir.\n",
    "#Bu da şu an karşılaştığımız sonucun daha optimistik olduğu anlamına gelir."
   ]
  },
  {
   "cell_type": "code",
   "execution_count": 209,
   "metadata": {},
   "outputs": [],
   "source": [
    "def my_binary_search(my_list, item_search):\n",
    "    found = (-1,-1,0)\n",
    "    low = 0\n",
    "    high = len(my_list)-1\n",
    "    s = 0\n",
    "    while low <= high:\n",
    "        mid = (low + high) // 2\n",
    "        s = s + 1\n",
    "        if my_list[mid] == item_search:\n",
    "            return my_list[mid],mid,s\n",
    "        elif my_list[mid] > item_search:\n",
    "            high = mid - 1\n",
    "        else:\n",
    "            low = mid + 1\n",
    "    return found[0], found[1], s"
   ]
  },
  {
   "cell_type": "code",
   "execution_count": 210,
   "metadata": {},
   "outputs": [],
   "source": [
    "def my_bubble_sort(my_list):\n",
    "    n = len(my_list)\n",
    "    for i in range(n-1, 1, -1):\n",
    "        for j in range(0,i):\n",
    "            if not(my_list[j] < my_list[j+1]):\n",
    "                temp = my_list[j]\n",
    "                my_list[j] = my_list[j+1]\n",
    "                my_list[j+1] = temp\n",
    "    return my_list"
   ]
  },
  {
   "cell_type": "code",
   "execution_count": 211,
   "metadata": {},
   "outputs": [
    {
     "name": "stdout",
     "output_type": "stream",
     "text": [
      "[4, 5, -8, -9]\n"
     ]
    }
   ],
   "source": [
    "x_low = -10\n",
    "x_high = 10\n",
    "array_size = 4\n",
    "my_list = get_n_random_numbers(array_size,x_low,x_high)\n",
    "print(my_list)"
   ]
  },
  {
   "cell_type": "code",
   "execution_count": 212,
   "metadata": {},
   "outputs": [
    {
     "name": "stdout",
     "output_type": "stream",
     "text": [
      "[-8, -9, 4, 5]\n"
     ]
    }
   ],
   "source": [
    "my_list = my_bubble_sort(my_list)\n",
    "print(my_list)"
   ]
  },
  {
   "cell_type": "code",
   "execution_count": 213,
   "metadata": {},
   "outputs": [
    {
     "data": {
      "text/plain": [
       "8"
      ]
     },
     "execution_count": 213,
     "metadata": {},
     "output_type": "execute_result"
    }
   ],
   "source": [
    "my_search_item = get_n_random_numbers(1,x_low,x_high)\n",
    "my_search_item = my_search_item[0]\n",
    "my_search_item"
   ]
  },
  {
   "cell_type": "code",
   "execution_count": 214,
   "metadata": {},
   "outputs": [
    {
     "data": {
      "text/plain": [
       "(-1, -1, 3)"
      ]
     },
     "execution_count": 214,
     "metadata": {},
     "output_type": "execute_result"
    }
   ],
   "source": [
    "my_binary_search(my_list, my_search_item)"
   ]
  },
  {
   "cell_type": "code",
   "execution_count": 215,
   "metadata": {},
   "outputs": [],
   "source": [
    "def my_experimental_study_binary(iter_num=50):\n",
    "    cost = []\n",
    "    x_low = -100\n",
    "    x_high = 100\n",
    "    array_size = 40\n",
    "    print(\"Array size: \", array_size)\n",
    "    for iter in range(iter_num):\n",
    "        my_list = get_n_random_numbers(array_size,x_low,x_high)\n",
    "        my_list = my_bubble_sort(my_list)\n",
    "        my_search_item = get_n_random_numbers(1,x_low,x_high)\n",
    "        my_search_item = my_search_item[0]\n",
    "        result = my_binary_search(my_list, my_search_item)\n",
    "        cost.append(result[2]) \n",
    "            #bulunan indisleri cost'da tutuyoruz\n",
    "            #bu da bize aramak için kaç eleman tarandığı söyler\n",
    "            #eğer ki bulunamazsa array_size kadar maliyeti olur => O(n)\n",
    "        print(result)\n",
    "    return cost"
   ]
  },
  {
   "cell_type": "code",
   "execution_count": 216,
   "metadata": {},
   "outputs": [
    {
     "name": "stdout",
     "output_type": "stream",
     "text": [
      "Array size:  40\n",
      "(-1, -1, 6)\n",
      "(-1, -1, 6)\n",
      "(-1, -1, 6)\n",
      "(-19, 19, 1)\n",
      "(-1, -1, 6)\n",
      "(-1, -1, 5)\n",
      "(-2, 20, 5)\n",
      "(-1, -1, 5)\n",
      "(-1, -1, 5)\n",
      "(-1, -1, 5)\n",
      "(-1, -1, 6)\n",
      "(-1, -1, 5)\n",
      "(-1, -1, 6)\n",
      "(-1, -1, 6)\n",
      "(-1, -1, 5)\n",
      "(-1, -1, 5)\n",
      "(-1, -1, 5)\n",
      "(-1, -1, 6)\n",
      "(-1, -1, 6)\n",
      "(-1, -1, 5)\n",
      "(-1, -1, 6)\n",
      "(-1, -1, 5)\n",
      "(-1, -1, 6)\n",
      "(-1, -1, 6)\n",
      "(-1, -1, 5)\n",
      "(-46, 12, 5)\n",
      "(-1, -1, 5)\n",
      "(-1, -1, 5)\n",
      "(-1, -1, 5)\n",
      "(-1, -1, 5)\n",
      "(-1, -1, 6)\n",
      "(-1, -1, 6)\n",
      "(-50, 12, 5)\n",
      "(-1, -1, 5)\n",
      "(-1, -1, 6)\n",
      "(50, 27, 5)\n",
      "(-1, -1, 6)\n",
      "(-1, -1, 5)\n",
      "(-1, -1, 5)\n",
      "(22, 25, 5)\n",
      "(-1, -1, 5)\n",
      "(-1, -1, 6)\n",
      "(-1, -1, 5)\n",
      "(-1, -1, 6)\n",
      "(-1, -1, 5)\n",
      "(-1, -1, 5)\n",
      "(-1, -1, 6)\n",
      "(-85, 1, 4)\n",
      "(-1, -1, 5)\n",
      "(-1, -1, 5)\n"
     ]
    }
   ],
   "source": [
    "c_s_b = my_experimental_study_binary()"
   ]
  },
  {
   "cell_type": "code",
   "execution_count": 217,
   "metadata": {},
   "outputs": [
    {
     "name": "stdout",
     "output_type": "stream",
     "text": [
      "[6, 6, 6, 1, 6, 5, 5, 5, 5, 5, 6, 5, 6, 6, 5, 5, 5, 6, 6, 5, 6, 5, 6, 6, 5, 5, 5, 5, 5, 5, 6, 6, 5, 5, 6, 5, 6, 5, 5, 5, 5, 6, 5, 6, 5, 5, 6, 4, 5, 5]\n"
     ]
    }
   ],
   "source": [
    "print(c_s_b)"
   ]
  },
  {
   "cell_type": "code",
   "execution_count": 220,
   "metadata": {},
   "outputs": [
    {
     "name": "stdout",
     "output_type": "stream",
     "text": [
      "[40, 40, 40, 40, 40, 40, 40, 40, 40, 40, 36, 40, 40, 40, 40, 40, 21, 40, 40, 40, 40, 40, 40, 40, 40, 40, 40, 40, 23, 40, 0, 27, 40, 40, 40, 23, 40, 40, 40, 40, 40, 40, 40, 40, 40, 40, 40, 33, 40, 1]\n"
     ]
    }
   ],
   "source": [
    "print(c_s_l)"
   ]
  },
  {
   "cell_type": "code",
   "execution_count": 228,
   "metadata": {},
   "outputs": [
    {
     "data": {
      "image/png": "[encoded data removed]",
      "text/plain": [
       "<Figure size 432x288 with 2 Axes>"
      ]
     },
     "metadata": {
      "needs_background": "light"
     },
     "output_type": "display_data"
    }
   ],
   "source": [
    "plt.subplot(1,2,1), plt.plot(c_s_l)\n",
    "plt.ylim([0,45])\n",
    "plt.subplot(1,2,2), plt.plot(c_s_b)\n",
    "plt.ylim([0,45])\n",
    "plt.show()"
   ]
  }
 ],
 "metadata": {
  "kernelspec": {
   "display_name": "Python 3",
   "language": "python",
   "name": "python3"
  },
  "language_info": {
   "codemirror_mode": {
    "name": "ipython",
    "version": 3
   },
   "file_extension": ".py",
   "mimetype": "text/x-python",
   "name": "python",
   "nbconvert_exporter": "python",
   "pygments_lexer": "ipython3",
   "version": "3.7.3"
  }
 },
 "nbformat": 4,
 "nbformat_minor": 2
}
